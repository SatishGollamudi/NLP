{
  "nbformat": 4,
  "nbformat_minor": 0,
  "metadata": {
    "colab": {
      "provenance": [],
      "authorship_tag": "ABX9TyNIRcwyus1siSA8BTLL+leu",
      "include_colab_link": true
    },
    "kernelspec": {
      "name": "python3",
      "display_name": "Python 3"
    },
    "language_info": {
      "name": "python"
    }
  },
  "cells": [
    {
      "cell_type": "markdown",
      "metadata": {
        "id": "view-in-github",
        "colab_type": "text"
      },
      "source": [
        "<a href=\"https://colab.research.google.com/github/SatishGollamudi/NLP/blob/main/NER.ipynb\" target=\"_parent\"><img src=\"https://colab.research.google.com/assets/colab-badge.svg\" alt=\"Open In Colab\"/></a>"
      ]
    },
    {
      "cell_type": "code",
      "source": [
        "import nltk\n",
        "from nltk.tree import Tree\n",
        "\n",
        "# Download necessary resources (if not already downloaded)\n",
        "nltk.download('punkt')\n",
        "nltk.download('averaged_perceptron_tagger')\n",
        "nltk.download('maxent_ne_chunker')\n",
        "nltk.download('words')\n",
        "\n",
        "# Your sentence\n",
        "#sentence = \"The Eiffel Tower was built from 1887 to 1889 by Gustave Eiffel, whose company specialized in building metal frameworks and structures.\"\n",
        "\n",
        "sentence = \"The Taj Mahal was built by Mughal emperor Shah Jahan. He commissioned its construction as a mausoleum for his beloved wife, Mumtaz Mahal. Construction began in 1632 and was completed in 1648.\"\n",
        "# Tokenize and tag the sentence\n",
        "words = nltk.word_tokenize(sentence)\n",
        "tag_elements = nltk.pos_tag(words)\n",
        "\n",
        "# Perform named entity chunking\n",
        "chunks = nltk.ne_chunk(tag_elements)\n",
        "\n",
        "# Function to convert the nltk.Tree to a string representation with visual cues\n",
        "def tree_to_diagram(tree, indent=0):\n",
        "    if isinstance(tree, Tree):\n",
        "        label = tree.label()\n",
        "        print(\"  \" * indent + \"+-\" + label)  # Indicate entity type\n",
        "        for child in tree:\n",
        "            tree_to_diagram(child, indent + 1)  # Recursively process children\n",
        "    else:\n",
        "        print(\"  \" * indent + \"|-\" + str(tree))  # Display word/tag\n",
        "\n",
        "# Print the diagram\n",
        "print(\"Sentence:\", sentence)\n",
        "print(\"\\nNER Diagram:\")\n",
        "tree_to_diagram(chunks)"
      ],
      "metadata": {
        "colab": {
          "base_uri": "https://localhost:8080/"
        },
        "id": "vRGNw2hUYt8k",
        "outputId": "5323b8bb-7316-459e-f6ec-ada8a713ad35"
      },
      "execution_count": 14,
      "outputs": [
        {
          "output_type": "stream",
          "name": "stderr",
          "text": [
            "[nltk_data] Downloading package punkt to /root/nltk_data...\n",
            "[nltk_data]   Package punkt is already up-to-date!\n",
            "[nltk_data] Downloading package averaged_perceptron_tagger to\n",
            "[nltk_data]     /root/nltk_data...\n",
            "[nltk_data]   Package averaged_perceptron_tagger is already up-to-\n",
            "[nltk_data]       date!\n",
            "[nltk_data] Downloading package maxent_ne_chunker to\n",
            "[nltk_data]     /root/nltk_data...\n",
            "[nltk_data]   Package maxent_ne_chunker is already up-to-date!\n",
            "[nltk_data] Downloading package words to /root/nltk_data...\n",
            "[nltk_data]   Package words is already up-to-date!\n"
          ]
        },
        {
          "output_type": "stream",
          "name": "stdout",
          "text": [
            "Sentence: The Taj Mahal was built by Mughal emperor Shah Jahan. He commissioned its construction as a mausoleum for his beloved wife, Mumtaz Mahal. Construction began in 1632 and was completed in 1648.\n",
            "\n",
            "NER Diagram:\n",
            "+-S\n",
            "  |-('The', 'DT')\n",
            "  +-ORGANIZATION\n",
            "    |-('Taj', 'NNP')\n",
            "    |-('Mahal', 'NNP')\n",
            "  |-('was', 'VBD')\n",
            "  |-('built', 'VBN')\n",
            "  |-('by', 'IN')\n",
            "  +-PERSON\n",
            "    |-('Mughal', 'NNP')\n",
            "  |-('emperor', 'NN')\n",
            "  +-PERSON\n",
            "    |-('Shah', 'NNP')\n",
            "    |-('Jahan', 'NNP')\n",
            "  |-('.', '.')\n",
            "  |-('He', 'PRP')\n",
            "  |-('commissioned', 'VBD')\n",
            "  |-('its', 'PRP$')\n",
            "  |-('construction', 'NN')\n",
            "  |-('as', 'IN')\n",
            "  |-('a', 'DT')\n",
            "  |-('mausoleum', 'NN')\n",
            "  |-('for', 'IN')\n",
            "  |-('his', 'PRP$')\n",
            "  |-('beloved', 'JJ')\n",
            "  |-('wife', 'NN')\n",
            "  |-(',', ',')\n",
            "  +-PERSON\n",
            "    |-('Mumtaz', 'NNP')\n",
            "    |-('Mahal', 'NNP')\n",
            "  |-('.', '.')\n",
            "  |-('Construction', 'NN')\n",
            "  |-('began', 'VBD')\n",
            "  |-('in', 'IN')\n",
            "  |-('1632', 'CD')\n",
            "  |-('and', 'CC')\n",
            "  |-('was', 'VBD')\n",
            "  |-('completed', 'VBN')\n",
            "  |-('in', 'IN')\n",
            "  |-('1648', 'CD')\n",
            "  |-('.', '.')\n"
          ]
        }
      ]
    },
    {
      "cell_type": "code",
      "source": [],
      "metadata": {
        "id": "PjF2yEV9XtWQ"
      },
      "execution_count": null,
      "outputs": []
    }
  ]
}