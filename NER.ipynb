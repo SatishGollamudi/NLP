{
  "nbformat": 4,
  "nbformat_minor": 0,
  "metadata": {
    "colab": {
      "provenance": [],
      "authorship_tag": "ABX9TyNIRcwyus1siSA8BTLL+leu",
      "include_colab_link": true
    },
    "kernelspec": {
      "name": "python3",
      "display_name": "Python 3"
    },
    "language_info": {
      "name": "python"
    }
  },
  "cells": [
    {
      "cell_type": "markdown",
      "metadata": {
        "id": "view-in-github",
        "colab_type": "text"
      },
      "source": [
        "<a href=\"https://colab.research.google.com/github/SatishGollamudi/NLP/blob/main/NER.ipynb\" target=\"_parent\"><img src=\"https://colab.research.google.com/assets/colab-badge.svg\" alt=\"Open In Colab\"/></a>"
      ]
    },
    {
      "cell_type": "code",
      "source": [
        "import nltk\n",
        "from nltk.tree import Tree\n",
        "\n",
        "# Download necessary resources (if not already downloaded)\n",
        "nltk.download('punkt')\n",
        "nltk.download('averaged_perceptron_tagger')\n",
        "nltk.download('maxent_ne_chunker')\n",
        "nltk.download('words')\n",
        "\n",
        "# Your sentence\n",
        "#sentence = \"The Eiffel Tower was built from 1887 to 1889 by Gustave Eiffel, whose company specialized in building metal frameworks and structures.\"\n",
        "\n",
        "sentence = \"The Taj Mahal was built by Mughal emperor Shah Jahan. He commissioned its construction as a mausoleum for his beloved wife, Mumtaz Mahal. Construction began in 1632 and was completed in 1648.\"\n",
        "# Tokenize and tag the sentence\n",
        "words = nltk.word_tokenize(sentence)\n",
        "tag_elements = nltk.pos_tag(words)\n",
        "\n",
        "# Perform named entity chunking\n",
        "chunks = nltk.ne_chunk(tag_elements)\n",
        "\n",
        "# Function to convert the nltk.Tree to a string representation with visual cues\n",
        "def tree_to_diagram(tree, indent=0):\n",
        "    if isinstance(tree, Tree):\n",
        "        label = tree.label()\n",
        "        print(\"  \" * indent + \"+-\" + label)  # Indicate entity type\n",
        "        for child in tree:\n",
        "            tree_to_diagram(child, indent + 1)  # Recursively process children\n",
        "    else:\n",
        "        print(\"  \" * indent + \"|-\" + str(tree))  # Display word/tag\n",
        "\n",
        "# Print the diagram\n",
        "print(\"Sentence:\", sentence)\n",
        "print(\"\\nNER Diagram:\")\n",
        "tree_to_diagram(chunks)"
      ],
      "metadata": {
        "colab": {
          "base_uri": "https://localhost:8080/"
        },
        "id": "vRGNw2hUYt8k",
        "outputId": "7a59d9fc-5aac-4a62-b04b-8b4eaa32846e"
      },
      "execution_count": 13,
      "outputs": [
        {
          "output_type": "stream",
          "name": "stderr",
          "text": [
            "[nltk_data] Downloading package punkt to /root/nltk_data...\n",
            "[nltk_data]   Package punkt is already up-to-date!\n",
            "[nltk_data] Downloading package averaged_perceptron_tagger to\n",
            "[nltk_data]     /root/nltk_data...\n",
            "[nltk_data]   Package averaged_perceptron_tagger is already up-to-\n",
            "[nltk_data]       date!\n",
            "[nltk_data] Downloading package maxent_ne_chunker to\n",
            "[nltk_data]     /root/nltk_data...\n",
            "[nltk_data]   Package maxent_ne_chunker is already up-to-date!\n",
            "[nltk_data] Downloading package words to /root/nltk_data...\n",
            "[nltk_data]   Package words is already up-to-date!\n"
          ]
        },
        {
          "output_type": "stream",
          "name": "stdout",
          "text": [
            "Sentence: The Eiffel Tower was built from 1887 to 1889 by Gustave Eiffel, whose company specialized in building metal frameworks and structures.\n",
            "\n",
            "NER Diagram:\n",
            "+-S\n",
            "  |-('The', 'DT')\n",
            "  +-ORGANIZATION\n",
            "    |-('Eiffel', 'NNP')\n",
            "    |-('Tower', 'NNP')\n",
            "  |-('was', 'VBD')\n",
            "  |-('built', 'VBN')\n",
            "  |-('from', 'IN')\n",
            "  |-('1887', 'CD')\n",
            "  |-('to', 'TO')\n",
            "  |-('1889', 'CD')\n",
            "  |-('by', 'IN')\n",
            "  +-PERSON\n",
            "    |-('Gustave', 'NNP')\n",
            "    |-('Eiffel', 'NNP')\n",
            "  |-(',', ',')\n",
            "  |-('whose', 'WP$')\n",
            "  |-('company', 'NN')\n",
            "  |-('specialized', 'VBD')\n",
            "  |-('in', 'IN')\n",
            "  |-('building', 'NN')\n",
            "  |-('metal', 'NN')\n",
            "  |-('frameworks', 'NNS')\n",
            "  |-('and', 'CC')\n",
            "  |-('structures', 'NNS')\n",
            "  |-('.', '.')\n"
          ]
        }
      ]
    },
    {
      "cell_type": "code",
      "source": [],
      "metadata": {
        "id": "PjF2yEV9XtWQ"
      },
      "execution_count": null,
      "outputs": []
    }
  ]
}